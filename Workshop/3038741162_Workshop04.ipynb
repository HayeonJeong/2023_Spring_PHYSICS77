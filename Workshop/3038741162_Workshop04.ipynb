{
 "cells": [
  {
   "cell_type": "markdown",
   "metadata": {},
   "source": [
    "## Workshop 4\n",
    "### File Input and Output (I/O)\n",
    "\n",
    "**Submit this notebook to bCourses (ipynb and pdf) to receive a grade for this Workshop.**\n",
    "\n",
    "Please complete workshop activities in code cells in this iPython notebook. The activities titled **Practice** are purely for you to explore Python. Some of them may have some code written, and you should try to modify it in different ways to understand how it works. Although no particular output is expected at submission time, it is _highly_ recommended that you read and work through the practice activities before or alongside the exercises. However, the activities titled **Exercise** have specific tasks and specific outputs expected. Include comments in your code when necessary. The workshop should be submitted on bCourses under the Assignments tab.\n",
    "\n",
    "**The homework should be submitted on bCourses under the Assignments tab (both the .ipynb and .pdf files). Please label it by your student ID number (SIS ID)**\n",
    "\n",
    "[Exercises start here](#exercises)"
   ]
  },
  {
   "cell_type": "markdown",
   "metadata": {},
   "source": [
    "In this notebook, we're going to explore some ways that we can store data in files, and extract data from files. Let's just get all of the importing out of the way:"
   ]
  },
  {
   "cell_type": "code",
   "execution_count": 1,
   "metadata": {},
   "outputs": [],
   "source": [
    "%matplotlib inline\n",
    "import numpy as np\n",
    "import matplotlib as mpl\n",
    "import matplotlib.pyplot as plt"
   ]
  },
  {
   "cell_type": "markdown",
   "metadata": {},
   "source": [
    "## Practice: Basic Writing and Reading ASCII Files"
   ]
  },
  {
   "cell_type": "markdown",
   "metadata": {},
   "source": [
    "Think of ASCII files as text files. You can open them using a text editor (like vim or emacs in Unix, or Notepad in Windows) and read the information they contain directly. There are a few ways to produce these files, and to read them once they've been produced. In Python, the simplest way is to use file objects. \n",
    "\n",
    "Let's give it a try. We create an abstract file object by calling the function `open( filename, access_mode )` and assigning its return value to a variable (usually `f`). The argument `filename` just specifices the name of the file we're interested in, and `access_mode` tells Python what we plan to do with that file:  \n",
    "\n",
    "    'r': read the file  \n",
    "    'w': write to the file (creates a new file, or clears an existing file)\n",
    "    'a': append the file  \n",
    "     \n",
    "Note that both arguments should be strings.\n",
    "For full syntax and special arguments, see documentation at https://docs.python.org/2/library/functions.html#open"
   ]
  },
  {
   "cell_type": "code",
   "execution_count": 2,
   "metadata": {},
   "outputs": [],
   "source": [
    "f = open( 'welcome.txt', 'w' )"
   ]
  },
  {
   "cell_type": "markdown",
   "metadata": {},
   "source": [
    "**A note of caution**: as soon as you call `open()`, Python creates a new file with the name you pass to it if you open it in write mode (`'w'`). Python will overwrite existing files if you open a file of the same name in write ('`w`') mode."
   ]
  },
  {
   "cell_type": "markdown",
   "metadata": {},
   "source": [
    "Now we can write to the file using `f.write( thing_to_write )`. We can write anything we want, but it must be formatted as a string."
   ]
  },
  {
   "cell_type": "code",
   "execution_count": 3,
   "metadata": {},
   "outputs": [],
   "source": [
    "topics = ['Data types', 'Loops', 'Functions', 'Arrays', 'Plotting', 'Statistics']"
   ]
  },
  {
   "cell_type": "code",
   "execution_count": 4,
   "metadata": {},
   "outputs": [],
   "source": [
    "f.write( 'Welcome to Physics 77, Spring 2022\\n' ) # the newline command \\n tells Python to start a new line\n",
    "f.write( 'Topics we will learn about include:\\n' )\n",
    "for top in topics:\n",
    "    f.write( top + '\\n')\n",
    "f.close()                                         # don't forget this part!"
   ]
  },
  {
   "cell_type": "markdown",
   "metadata": {},
   "source": [
    "**Practice 1:** Use the syntax you have just learned to create an ASCII file titled \"`sine.txt`\" with two columns containing 20 x and 20 y values. The x values should range from $0$ to $2\\pi$ - you can use `np.linspace()` to generate these values (as many as you want). The y values should be $y = sin(x)$ (you can use `np.sin()`) for this. Then, use a `for` loop as above to write a new line for each pair of x and y values. To make sure that each x,y pair is on a new line, remember to add `\\n` to the end of each line like above. To separate the values by a tab so that the columns are nicely aligned, you can use the \"character\" `\\t`.  So `\\n` inserts a new line and `\\t` inserts a tab. You may wish to use some kind of string formatting to decimals from running too far. Here is an example with just one data point:\n",
    "\n",
    "    x = 0.5 * np.pi\n",
    "    y = np.sin(x)\n",
    "    print(\"%.5f \\t %.5f\" % (x,y))\n",
    "\n",
    "Pay close attention to the fact that when you use the `write` function, the argument that you pass to it needs to be a string."
   ]
  },
  {
   "cell_type": "code",
   "execution_count": 5,
   "metadata": {},
   "outputs": [
    {
     "name": "stdout",
     "output_type": "stream",
     "text": [
      "0.00000 \t 0.00000\n",
      "0.31416 \t 0.84147\n",
      "0.62832 \t 0.90930\n",
      "0.94248 \t 0.14112\n",
      "1.25664 \t -0.75680\n",
      "1.57080 \t -0.95892\n",
      "1.88496 \t -0.27942\n",
      "2.19911 \t 0.65699\n",
      "2.51327 \t 0.98936\n",
      "2.82743 \t 0.41212\n",
      "3.14159 \t -0.54402\n",
      "3.45575 \t -0.99999\n",
      "3.76991 \t -0.53657\n",
      "4.08407 \t 0.42017\n",
      "4.39823 \t 0.99061\n",
      "4.71239 \t 0.65029\n",
      "5.02655 \t -0.28790\n",
      "5.34071 \t -0.96140\n",
      "5.65487 \t -0.75099\n",
      "5.96903 \t 0.14988\n"
     ]
    }
   ],
   "source": [
    "# Code for Practice 1\n",
    "f = open( 'sine.txt', 'w' )\n",
    "for x in range(0, 20):\n",
    "    f.write( str(0.1 * x * np.pi) + '\\t\\t' + str(np.sin(x)) + '\\n')\n",
    "    print(\"%.5f \\t %.5f\" % (0.1 * x * np.pi, np.sin(x)))\n",
    "f.close()"
   ]
  },
  {
   "cell_type": "markdown",
   "metadata": {},
   "source": [
    "Now we will show how to *read* the values from `welcome.txt` back out:"
   ]
  },
  {
   "cell_type": "code",
   "execution_count": 6,
   "metadata": {},
   "outputs": [
    {
     "name": "stdout",
     "output_type": "stream",
     "text": [
      "Welcome to Physics 77, Spring 2022\n",
      "\n",
      "Topics we will learn about include:\n",
      "\n",
      "Data types\n",
      "\n",
      "Loops\n",
      "\n",
      "Functions\n",
      "\n",
      "Arrays\n",
      "\n",
      "Plotting\n",
      "\n",
      "Statistics\n",
      "\n"
     ]
    }
   ],
   "source": [
    "f = open( 'welcome.txt', 'r' )\n",
    "for line in f:\n",
    "    print(line)\n",
    "f.close()"
   ]
  },
  {
   "cell_type": "markdown",
   "metadata": {},
   "source": [
    "**Practice 2:** In the cell immediately above, you see that we print `line.strip()` instead of just printing `line`. Remove the `.strip()` part and see what happens. "
   ]
  },
  {
   "cell_type": "markdown",
   "metadata": {},
   "source": [
    "Suppose we wanted to skip the first two lines of `welcome.txt` and print only the list of topics `('Data types', 'Loops', 'Functions', 'Arrays', 'Plotting', 'Statistics')`. We can use `readline()` to \"read\" the first two lines but not store their value, thereby ignoring them."
   ]
  },
  {
   "cell_type": "code",
   "execution_count": 7,
   "metadata": {},
   "outputs": [
    {
     "name": "stdout",
     "output_type": "stream",
     "text": [
      "['Data types', 'Loops', 'Functions', 'Arrays', 'Plotting', 'Statistics']\n"
     ]
    }
   ],
   "source": [
    "f = open( 'welcome.txt', 'r' )\n",
    "f.readline()\n",
    "f.readline() # skip the first two lines\n",
    "topicList = []\n",
    "for line in f:\n",
    "    topicList.append(line.strip())\n",
    "f.close()\n",
    "print(topicList)"
   ]
  },
  {
   "cell_type": "code",
   "execution_count": 8,
   "metadata": {},
   "outputs": [
    {
     "name": "stdout",
     "output_type": "stream",
     "text": [
      "['Data types\\n', 'Loops\\n', 'Functions\\n', 'Arrays\\n', 'Plotting\\n', 'Statistics\\n']\n"
     ]
    }
   ],
   "source": [
    "f = open( 'welcome.txt', 'r' )\n",
    "f.readline()\n",
    "f.readline() # skip the first two lines\n",
    "topicList = []\n",
    "for line in f:\n",
    "    topicList.append(line)\n",
    "f.close()\n",
    "print(topicList)"
   ]
  },
  {
   "cell_type": "markdown",
   "metadata": {},
   "source": [
    "Python reads in spacing commands from files as well as strings. The `.strip()` just tells Python to ignore those spacing commands. What happens if you remove it from the code above?"
   ]
  },
  {
   "cell_type": "markdown",
   "metadata": {},
   "source": [
    "**Practice 3:** Use the syntax you have just learned to read back each line of x and y values from the `sine.txt` file that you just wrote in Practice 1. Don't worry about breaking up the lines into individual values quite yet."
   ]
  },
  {
   "cell_type": "code",
   "execution_count": 9,
   "metadata": {},
   "outputs": [
    {
     "name": "stdout",
     "output_type": "stream",
     "text": [
      "['0.3141592653589793\\t\\t0.8414709848078965', '0.6283185307179586\\t\\t0.9092974268256817', '0.942477796076938\\t\\t0.1411200080598672', '1.2566370614359172\\t\\t-0.7568024953079282', '1.5707963267948966\\t\\t-0.9589242746631385', '1.884955592153876\\t\\t-0.27941549819892586', '2.199114857512855\\t\\t0.6569865987187891', '2.5132741228718345\\t\\t0.9893582466233818', '2.827433388230814\\t\\t0.4121184852417566', '3.141592653589793\\t\\t-0.5440211108893698', '3.455751918948773\\t\\t-0.9999902065507035', '3.769911184307752\\t\\t-0.5365729180004349', '4.084070449666731\\t\\t0.4201670368266409', '4.39822971502571\\t\\t0.9906073556948704', '4.71238898038469\\t\\t0.6502878401571168', '5.026548245743669\\t\\t-0.2879033166650653', '5.340707511102649\\t\\t-0.9613974918795568', '5.654866776461628\\t\\t-0.750987246771676', '5.969026041820607\\t\\t0.14987720966295234']\n"
     ]
    }
   ],
   "source": [
    "f = open( 'sine.txt', 'r' )\n",
    "f.readline() # skip the first line\n",
    "topicList = []\n",
    "for line in f:\n",
    "    topicList.append(line.strip())\n",
    "f.close()\n",
    "print(topicList)"
   ]
  },
  {
   "cell_type": "markdown",
   "metadata": {},
   "source": [
    "### Practice Reading in Numerical Data as Floats"
   ]
  },
  {
   "cell_type": "markdown",
   "metadata": {},
   "source": [
    "Numerical data can be somewhat trickier to read in than strings. In the practices above, you read in `sine.txt` but each line was a `string` not a pair of `float` values. Let's read in a file I produced in another program, that contains results from a BaBar experiment, where we searched for a \"dark photon\" produced in e+e- collisions. The data are presented in two columns: \n",
    "\n",
    "    mass    charge\n",
    "\n",
    "Every time we read in a new line, it is going to start out being a `string`. To convert a line like\n",
    "\n",
    "    1.57079      1.00000\n",
    "    \n",
    "into a pair of values we need to do two things. The first is we need to split that string into two pieces. Fortunately, there is a function to do that for us. Suppose that we read in a `line` and we want to split it. We can do it as follows:\n",
    "\n",
    "    line.split()\n",
    "\n",
    "For the line above, calling `.split()` would return the following `list`:\n",
    "\n",
    "    ['1.57079','1.00000']\n",
    "    \n",
    "From there, we need to convert each value in the list into a `float` and store those values somewhere. This can be done using the `float()` function:\n",
    "\n",
    "    x_values = []\n",
    "    y_values = []\n",
    "    split_values = ['1.57079','1.00000']\n",
    "    x_values.append(float(split_values[0]))\n",
    "    y_values.append(float(split_values[1]))\n",
    "\n",
    "Now `x_values` is a `list` containing 1 element which is the `float` value `1.57079` and `y_values` is a `list` containing 1 element which is the `float` value `1.00000`."
   ]
  },
  {
   "cell_type": "code",
   "execution_count": 10,
   "metadata": {},
   "outputs": [],
   "source": [
    "# Example using BaBar_2016.dat\n",
    "\n",
    "f = open('BaBar_2016.dat', 'r')\n",
    "# read each line, split the data wherever there's a blank space,\n",
    "# and convert the values to floats\n",
    "\n",
    "# lists where we will store the values we read in\n",
    "mass = []\n",
    "charge = []\n",
    "for line in f:\n",
    "    tokens = line.split()\n",
    "    mass.append(float(tokens[0]))\n",
    "    charge.append(float(tokens[1]))\n",
    "f.close()"
   ]
  },
  {
   "cell_type": "markdown",
   "metadata": {},
   "source": [
    "We got it; let's plot it!"
   ]
  },
  {
   "cell_type": "code",
   "execution_count": 11,
   "metadata": {},
   "outputs": [
    {
     "data": {
      "image/png": "[encoded data removed]",
      "text/plain": [
       "<Figure size 640x480 with 1 Axes>"
      ]
     },
     "metadata": {},
     "output_type": "display_data"
    }
   ],
   "source": [
    "import matplotlib.pyplot as plt\n",
    "%matplotlib inline\n",
    "\n",
    "plt.plot(mass, charge, 'g-' )\n",
    "plt.xlim(0, 8)\n",
    "plt.ylim(0, 2e-3)\n",
    "plt.xlabel('mass (GeV)')\n",
    "plt.ylabel('charge, 90% C.L. limit')\n",
    "plt.show()"
   ]
  },
  {
   "cell_type": "markdown",
   "metadata": {},
   "source": [
    "**Practice 4:** Use the syntax you have just learned to read back each line of x and y values from the sine.txt file that you wrote in Practice 1, and split each line into `float` values and store them. Then, plot your stored x and y values to make sure you have done everything correctly"
   ]
  },
  {
   "cell_type": "code",
   "execution_count": 12,
   "metadata": {},
   "outputs": [],
   "source": [
    "# Code for Practice 4\n",
    "# Example using sine.txt\n",
    "\n",
    "f = open('sine.txt', 'r')\n",
    "\n",
    "x_list = []\n",
    "y_list = []\n",
    "for line in f:\n",
    "    num_list = line.split()\n",
    "    x_list.append(float(num_list[0]))\n",
    "    y_list.append(float(num_list[1]))\n",
    "f.close()"
   ]
  },
  {
   "cell_type": "code",
   "execution_count": 13,
   "metadata": {},
   "outputs": [
    {
     "data": {
      "image/png": "[encoded data removed]",
      "text/plain": [
       "<Figure size 640x480 with 1 Axes>"
      ]
     },
     "metadata": {},
     "output_type": "display_data"
    }
   ],
   "source": [
    "import matplotlib.pyplot as plt\n",
    "%matplotlib inline\n",
    "\n",
    "plt.plot(x_list, y_list, 'g-' )\n",
    "plt.xlim(0, 6)\n",
    "plt.ylim(-1.5, 1.5)\n",
    "plt.xlabel('x')\n",
    "plt.ylabel('y = sin(x)')\n",
    "plt.show()"
   ]
  },
  {
   "cell_type": "markdown",
   "metadata": {},
   "source": [
    "Of course, you already know of another way to read in values like this: `numpy.loadtxt()` and `numpy.genfromtxt()`. If you have already been using those, feel free to move on. Otherwise, take a moment to make yourself aware of these functions as they will massively simplify your life."
   ]
  },
  {
   "cell_type": "markdown",
   "metadata": {},
   "source": [
    "Fortunately, Python's `numpy` library has functions for converting file information into numpy arrays, which can be easily analyzed and plotted. The above can be accomplished with a lot less code (and a lot less head scratching!)"
   ]
  },
  {
   "cell_type": "markdown",
   "metadata": {},
   "source": [
    "The `genfromtxt` function takes as it's argument the name of the file you want to load, and any optional arguments you want to add to help with the loading and formatting process. Some of the most useful optional arguments are:  \n",
    "\n",
    "  **dtype**: data type of the resulting array  \n",
    "  **comments**: the character that indicates the start of a comment (e.g. '#')  \n",
    "              lines following  these characters will be ignored, and not read into the array  \n",
    "  **delimiter**: the character used to separate values. Often, it's whitespace,   \n",
    "   but it could also be ',', '|', or others  \n",
    "  **skip_header**: how many lines to skip at the beginning of the file  \n",
    "  **skip_footer**: how many lines to skip at the end of the file  \n",
    "  **use_cols**: which columns to load and which to ignore  \n",
    "  **unpack**: If True (the default is False), the array is transposed \n",
    "    (i.e., you can a set of columns, not a set of rows.) You can accomplish the same thing with `genfromtxt( file, opt_args,...).T`"
   ]
  },
  {
   "cell_type": "markdown",
   "metadata": {},
   "source": [
    "Reload the spectral data and reproduce the plot above using `loadtxt` or `genfromtxt`.   \n",
    "**Hint:** You may find it helpful to use `numpy.split( array, N )`, which splits `array` into\n",
    "`N` equal-length parts, and returns them as a list."
   ]
  },
  {
   "cell_type": "code",
   "execution_count": 14,
   "metadata": {},
   "outputs": [
    {
     "data": {
      "image/png": "[encoded data removed]",
      "text/plain": [
       "<Figure size 640x480 with 1 Axes>"
      ]
     },
     "metadata": {},
     "output_type": "display_data"
    }
   ],
   "source": [
    "# Same plot as before but now using numpy functions to load the data\n",
    "\n",
    "import numpy as np\n",
    "'''\n",
    "f = open('BaBar_2016.dat', 'r')\n",
    "mass = []\n",
    "charge = []\n",
    "for line in f:\n",
    "    tokens = np.split(line, 2)\n",
    "    mass.append(float(tokens[0]))\n",
    "    charge.append(float(tokens[1]))\n",
    "f.close()\n",
    "'''\n",
    "\n",
    "mass, charge = np.loadtxt('BaBar_2016.dat', unpack = True)\n",
    "plt.plot(mass, charge,'r-')\n",
    "plt.xlim(0, 8)\n",
    "plt.ylim(0, 2e-3)\n",
    "plt.xlabel('mass (GeV)')\n",
    "plt.ylabel('charge, 90% C.L. limit')\n",
    "plt.show()"
   ]
  },
  {
   "cell_type": "markdown",
   "metadata": {},
   "source": [
    "## Exercises\n",
    "\n"
   ]
  },
  {
   "cell_type": "markdown",
   "metadata": {},
   "source": [
    "**Exercise 1:** This exercise is meant to put many of the skills you have practiced thus far together. In this exercise, we are going to use I/O methods to see if we can find some correlations in some fake housing data. You will need the following files which should be in your directory:\n",
    "\n",
    "    house_locs_rent.txt\n",
    "    bus_stops.txt\n",
    "    grocery_stores.txt\n",
    "\n",
    "The file `house_locs_rent.txt` is a list of the locations of 500 houses and ther respective rents, and it has 3 columns:\n",
    "    \n",
    "    x-coordinate y-coordinate rent (in USD)\n",
    "\n",
    "The file `bus_stops.txt` is a list of the locations of bus stops and it has 2 columns:\n",
    "\n",
    "    x-coordinate y-coordinate\n",
    "\n",
    "The file `grocery_stores.txt` is a list of the locaitons of grocery stores and it has 2 columns: \n",
    "\n",
    "    x-coordinate y-coordinate\n",
    "\n",
    "All 3 files have one-line headers that you will want to ignore when loading the data. The goal of the exercise is to determine how much of the variation in the rent is predicted by variation in the distance between a house and its closest bus stop or by the distance between a house and its closest grocery store.\n",
    "\n",
    "To determine this, for each of the 500 houses, you will need to first calculate its distance to its nearest bus stop and its distance to its nearest grocery store.\n",
    "\n",
    "Then, we will use a measure called the Pearson correlation coefficient (which you will use in Homework04) to give an estimate of how much of the variation in the rent is predicted by variation in these distances. The Pearson correlation coefficient is defined as follows:\n",
    "\n",
    "### Correlation Coefficient\n",
    "\n",
    "Suppose I have $N$ data points each with two variables $X_i$ and $Y_i$, where $i = 1\\dots N$. Suppose I want to know how much of the variation in $Y$ is predicted by the variation in $X$. The correlation coefficient $R$ is a value between -1 and 1 with the following meaning: when $R=0$, $X$ and $Y$ are independent of each other. When $R>0$, we say they are positively correlated because if $X$ increases we can expect that $Y$ will increase as well. When $R<0$ we say they are negatively or oppositely correlated because if $X$ increases we can expect that $Y$ will decrease. $R$ is defined as follows:\n",
    "\n",
    "$$R = \\frac{\\mathbb{E}[(X_i - \\mu_X)(Y_i - \\mu_Y)]}{\\sigma_X \\sigma_Y} = \\frac{1}{N \\sigma_X \\sigma_Y} \\sum_{i=1}^N \n",
    "(X_i - \\mu_X)(Y_i - \\mu_Y)$$\n",
    "\n",
    "where $\\mu_X$ is the average of $X_i$ over the dataset, $\\mu_Y$ is the average of $Y_i$ over the dataset, $\\sigma_X$ is the standard deviation of $X_i$ over the dataset, and $\\sigma_Y$ is the standard deviation of $Y_i$ over the dataset. For calculating those quantities, you may find `np.mean()` and `np.std()` helpful.\n",
    "\n",
    "**However**, you must write your *own* correlation coefficient function. It can use `np.mean()` and `np.std()` but it should not call `np.cov` or `np.corrcoef` . \n",
    "\n",
    "**Output:** Your code should contain a function to calculate correlation coefficients as well as any other functions that you want to write (for example, a distance function, a minimum distance function...). The output should be the correlation coefficients between the pairs of variables (minimum distances to bus stops, minimum distances to grocery stores, rents) appropriately labeled. Also, create a CSV file titled `distances_rents.csv` and write the values of the minimum distances to the bus_stop and grocery store for each house along with its rent. For example, if the closest bus stop to the first house is 0.5 away and the closest grocery store to the first house is 1.5 away and the rent of the first house is 1250, then the first line of the CSV should read:\n",
    "\n",
    "    0.5,1.5,1250\n",
    "\n",
    "**Optional:** See if you can guess how I generated this fake data. To help sharpen your guess, try transforming the variables before computing the correlation coefficients. If the magnitude of the correlation coefficients goes up, that can be an indicator that you have found the correct form of the function. "
   ]
  },
  {
   "cell_type": "code",
   "execution_count": 15,
   "metadata": {},
   "outputs": [],
   "source": [
    "# Code for Exercise 1 goes here\n",
    "f = open('house_locs_rent.txt', 'r')\n",
    "house_x = []\n",
    "house_y = []\n",
    "rent = []\n",
    "f.readline() #skip the first line\n",
    "for line in f:\n",
    "    num_list = line.split()\n",
    "    house_x.append(float(num_list[0]))\n",
    "    house_y.append(float(num_list[1]))\n",
    "    rent.append(float(num_list[2]))\n",
    "f.close()"
   ]
  },
  {
   "cell_type": "code",
   "execution_count": 16,
   "metadata": {},
   "outputs": [],
   "source": [
    "f = open('bus_stops.txt', 'r')\n",
    "bus_x = []\n",
    "bus_y = []\n",
    "f.readline() #skip the first line\n",
    "for line in f:\n",
    "    num_list = line.split()\n",
    "    bus_x.append(float(num_list[0]))\n",
    "    bus_y.append(float(num_list[1]))\n",
    "f.close()"
   ]
  },
  {
   "cell_type": "code",
   "execution_count": 17,
   "metadata": {},
   "outputs": [],
   "source": [
    "f = open('grocery_stores.txt', 'r')\n",
    "grocery_x = []\n",
    "grocery_y = []\n",
    "f.readline() #skip the first line\n",
    "for line in f:\n",
    "    num_list = line.split()\n",
    "    grocery_x.append(float(num_list[0]))\n",
    "    grocery_y.append(float(num_list[1]))\n",
    "f.close()"
   ]
  },
  {
   "cell_type": "code",
   "execution_count": 18,
   "metadata": {},
   "outputs": [],
   "source": [
    "distance_bus = []\n",
    "distance_grocery = []\n",
    "distance_bus_min = []\n",
    "distance_grocery_min = []\n",
    "\n",
    "import math\n",
    "def distance(x1, y1, x2, y2):\n",
    "    return math.sqrt((x1 - x2)**2 + (y1 - y2)**2)\n",
    "\n",
    "def min_distance(list):\n",
    "    return min(list)\n",
    "\n",
    "for i in range(500):\n",
    "    for j in range(len(bus_x)):\n",
    "        distance_bus.append(distance(house_x[i], house_y[i], bus_x[j], bus_y[j]))\n",
    "    distance_bus_min.append(min_distance(distance_bus))\n",
    "    for k in range(len(grocery_x)):\n",
    "        distance_grocery.append(distance(house_x[i], house_y[i], grocery_x[k], grocery_y[k]))\n",
    "    distance_grocery_min.append(min_distance(distance_grocery))"
   ]
  },
  {
   "cell_type": "code",
   "execution_count": 19,
   "metadata": {},
   "outputs": [
    {
     "data": {
      "text/plain": [
       "0.21017252641494738"
      ]
     },
     "execution_count": 19,
     "metadata": {},
     "output_type": "execute_result"
    }
   ],
   "source": [
    "def correlation_coefficients(X_i, Y_i):\n",
    "    sigma_x = np.std(X_i)\n",
    "    sigma_y = np.std(Y_i)\n",
    "    mu_x = np.mean(X_i)\n",
    "    mu_y = np.mean(Y_i)\n",
    "    R = 1 / (500 * sigma_x * sigma_y)\n",
    "    R_sigma = sum([(X_i[i] - mu_x) * (Y_i[i] - mu_y) for i in range(500)])\n",
    "    return R * R_sigma\n",
    "\n",
    "correlation_coefficients(distance_bus_min, distance_grocery_min)"
   ]
  },
  {
   "cell_type": "code",
   "execution_count": 20,
   "metadata": {},
   "outputs": [],
   "source": [
    "f = open('distances_rents.csv', 'w')\n",
    "for i in range(0, 500):\n",
    "    f.write( str(distance_bus_min[i]) + '\\t' + str(distance_grocery_min[i]) + '\\t' + str(rent[i]) + '\\n')\n",
    "f.close()"
   ]
  },
  {
   "cell_type": "code",
   "execution_count": null,
   "metadata": {},
   "outputs": [],
   "source": []
  }
 ],
 "metadata": {
  "kernelspec": {
   "display_name": "Python 3 (ipykernel)",
   "language": "python",
   "name": "python3"
  },
  "language_info": {
   "codemirror_mode": {
    "name": "ipython",
    "version": 3
   },
   "file_extension": ".py",
   "mimetype": "text/x-python",
   "name": "python",
   "nbconvert_exporter": "python",
   "pygments_lexer": "ipython3",
   "version": "3.9.15"
  }
 },
 "nbformat": 4,
 "nbformat_minor": 4
}
