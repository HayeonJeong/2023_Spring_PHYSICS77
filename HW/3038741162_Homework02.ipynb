{
 "cells": [
  {
   "cell_type": "markdown",
   "metadata": {},
   "source": [
    "# Homework 2: Control Structures"
   ]
  },
  {
   "cell_type": "markdown",
   "metadata": {},
   "source": [
    "Please complete this homework assignment in code cells in the iPython notebook. Include comments in your code when necessary.  Please rename the notebook as SIS ID_HW02.ipynb (your student ID number) and save the notebook once you have executed it as a PDF  (note, that when saving as PDF you don't want to use the option with latex because it crashes, but rather the one to save it directly as a PDF). \n",
    "\n",
    "**The homework should be submitted on bCourses under the Assignments tab (both the .ipynb and .pdf files). Please label it by your student ID number (SIS ID)**"
   ]
  },
  {
   "cell_type": "markdown",
   "metadata": {},
   "source": [
    "## Problem 1: Binomial Coefficients\n",
    "\n",
    "[Adapted from Newman, Exercise 2.11] The binomial coefficient $n \\choose k$ is an integer equal to\n",
    "\n",
    "$$ {n \\choose k} = \\frac{n!}{k!(n-k)!} = \\frac{n \\times (n-1) \\times (n-2) \\times \\cdots \\times (n-k + 1)}{1 \\times 2 \\times \\cdots \\times k} $$\n",
    "\n",
    "when $k \\geq 1$, or ${n \\choose 0} = 1$ when $k=0$. (The special case $k=0$ can be included in the general definition by using the conventional definition $0! \\equiv 1$.)\n",
    "\n",
    "1. Write a function `factorial(n)` that takes an integer $n$ and returns $n!$ as an integer. It should yield $1$ when $n=0$. You may assume that the argument will also be an integer greater than or equal to 0.\n",
    "\n",
    "1. Using the form of the binomial coefficient given above, write a function `binomial(n,k)` that calculates the binomial coefficient for given $n$ and $k$. Make sure your function returns the answer in the form of an integer (not a float) and gives the correct value of 1 for the case where $k=0$. (Hint: Use your `factorial` function from Part 1.)\n",
    "\n",
    "1. Using your `binomial` function, write a function `pascals_triangle(N)` to print out the first $N$ lines of \"Pascal's triangle\" (starting with the $0$th line). The $n$th line of Pascal's triangle contains $n+1$ numbers, which are the coefficients $n \\choose 0$, $n \\choose 1$, and so on up to $n \\choose n$. Thus the first few lines are\n",
    "        1\n",
    "        1 1\n",
    "        1 2 1\n",
    "        1 3 3 1\n",
    "        1 4 6 4 1     \n",
    "This would be the result of `pascals_triangle(5)`. Print the first 10 rows of Pascal's triangle.\n",
    "        \n",
    "1. The probability that an ubiased coin, tossed $n$ times, will come up heads $k$ times is ${n \\choose k} / 2^n$. (Or instead of coins, perhaps you'd prefer to think of spins measured in a [Stern-Gerlach experiment](https://en.wikipedia.org/wiki/Stern%E2%80%93Gerlach_experiment).)\n",
    "    - Write a function `heads_exactly(n,k)` to calculate the probability that a coin tossed $n$ times comes up heads exactly $k$ times.\n",
    "    - Write a function `heads_atleast(n,k)` to calculate the probability that a coin tossed $n$ times comes up heads $k$ or more times.\n",
    "    - Print the probabilities (to three digits) that a coin tossed 100 times comes up heads exactly 70 times, and at least 70 times. You should print corresponding statements with the numbers so it is clear what they each mean.\n",
    "\n",
    "1. Along with the printed statements from Part 4, have your code generate and display two labelled plots for `heads_exactly(n,k)` and `heads_atleast(n,k)` with $n=100$. You should have values of $k$ on the $x$-axis, and probabilities on the $y$-axis. (Note that $k$ only takes integer values from 0 to $n$, inclusive. Your plots can be connected curves or have discrete markers for each point; either is fine.)\n",
    "\n",
    "#### Output\n",
    "\n",
    "To summarize, your program should output the following things:\n",
    "\n",
    "1. The first 10 rows of Pascal's triangle\n",
    "1. The probabilities (to three digits) that a coin tossed 100 times comes up heads exactly 70 times, and at least 70 times, with corresponding statements so it is clear what each number signifies.\n",
    "1. Two labeled plots for `heads_exactly(n,k)` and `heads_atleast(n,k)` with $n=100$, representing probability distributions for 100 coin flips.\n",
    "\n",
    "#### Reminder\n",
    "\n",
    "Remember to write informative doc strings, comment your code, and use descriptive function and variable names so others (and future you) can understand what you're doing!\n"
   ]
  },
  {
   "cell_type": "code",
   "execution_count": 1,
   "metadata": {},
   "outputs": [
    {
     "name": "stdout",
     "output_type": "stream",
     "text": [
      "120\n",
      "1\n"
     ]
    }
   ],
   "source": [
    "'''The numpy library has a lot of useful functions\n",
    "and we always use matplotlib for plotting, so it's \n",
    "generally a good idea to import them at the beginning.'''\n",
    "import numpy as np\n",
    "import matplotlib.pyplot as plt\n",
    "\n",
    "def factorial(n):\n",
    "    \"\"\"Returns the factorial of n\"\"\"\n",
    "    return_value = 1\n",
    "    \n",
    "    #Try using a for loop to update the return_value and calculate n!\n",
    "    for i in range(1, n + 1, 1):\n",
    "        return_value *= i\n",
    "    \n",
    "    return return_value\n",
    "\n",
    "print(factorial(5))\n",
    "print(factorial(1))"
   ]
  },
  {
   "cell_type": "code",
   "execution_count": 2,
   "metadata": {},
   "outputs": [
    {
     "name": "stdout",
     "output_type": "stream",
     "text": [
      "10\n",
      "1\n"
     ]
    }
   ],
   "source": [
    "def binomial(n, k):\n",
    "    \"\"\"Returns the binomial coefficient n choose k\"\"\"\n",
    "    \n",
    "    #Use a conditional statement to return 1 in the case k = 0\n",
    "    if k == 0:\n",
    "        return 1\n",
    "    \n",
    "    #Use factorial(n) to calculate the binomial coefficient\n",
    "    return (int)(factorial(n) / factorial(k) / factorial(n - k))\n",
    "\n",
    "print(binomial(5, 3))\n",
    "print(binomial(5, 0))"
   ]
  },
  {
   "cell_type": "code",
   "execution_count": 3,
   "metadata": {},
   "outputs": [
    {
     "name": "stdout",
     "output_type": "stream",
     "text": [
      "1  \n",
      "1 1  \n",
      "1 2 1  \n",
      "1 3 3 1  \n",
      "1 4 6 4 1  \n",
      "1 5 10 10 5 1  \n",
      "1 6 15 20 15 6 1  \n",
      "1 7 21 35 35 21 7 1  \n",
      "1 8 28 56 70 56 28 8 1  \n",
      "1 9 36 84 126 126 84 36 9 1  \n",
      "1 10 45 120 210 252 210 120 45 10 1  \n"
     ]
    }
   ],
   "source": [
    "def pascals_triangle(N):\n",
    "    \"\"\"Prints out N rows of pascal's triangle\"\"\"\n",
    "    \n",
    "    #A \"double for loop\" has been set up below; \n",
    "    #Python goes through the entire inner loop during each pass through the outer loop\n",
    "    \n",
    "    for row in range(0, N + 1):       #This is the outer loop; each pass through the loop corresponds to one row of the triangle\n",
    "        for k in range(0, row + 1):   #This is is the inner loop; each pass through the loop corresponds to a number on the row\n",
    "            #Code here is part of each inner loop iteration (i.e. print a binomial coefficient)\n",
    "            print(binomial(row, k), end = \" \")\n",
    "            \n",
    "        #Code here is part of the outer loop\n",
    "        print(\" \")\n",
    "        \n",
    "    #This function doesn't need to return anything\n",
    "pascals_triangle(10)"
   ]
  },
  {
   "cell_type": "code",
   "execution_count": 39,
   "metadata": {},
   "outputs": [
    {
     "name": "stdout",
     "output_type": "stream",
     "text": [
      "The probability that a coin tossed 100 times comes up heads exactly 70 times: 0.000\n"
     ]
    }
   ],
   "source": [
    "def heads_exactly(n,k):\n",
    "    \"\"\"Returns the probability of getting k heads if you flip a coin n times\"\"\"\n",
    "    probability = binomial(n, k) / 2 ** n\n",
    "    return probability #Use binomial(n,k) to calculate the probability\n",
    "\n",
    "print(\"The probability that a coin tossed 100 times comes up heads exactly 70 times: {:.3f}\".format(heads_exactly(100, 70)))"
   ]
  },
  {
   "cell_type": "code",
   "execution_count": 38,
   "metadata": {},
   "outputs": [
    {
     "name": "stdout",
     "output_type": "stream",
     "text": [
      "The probability that a coin tossed 100 times comes up heads 70 or more times: 0.000\n"
     ]
    }
   ],
   "source": [
    "def heads_atleast(n,k):\n",
    "    \"\"\"Returns the probability of getting at least k heads if you flip a coin n times\"\"\"\n",
    "    total_prob = 0\n",
    "    \n",
    "    #Use a for loop and heads_exactly(n,k) to update total_prob\n",
    "    for i in range(k, n+1):\n",
    "        total_prob += heads_exactly(n, i)\n",
    "    \n",
    "    return total_prob\n",
    "\n",
    "print(\"The probability that a coin tossed 100 times comes up heads 70 or more times: {:.3f}\".format(heads_atleast(100, 70)))"
   ]
  },
  {
   "cell_type": "code",
   "execution_count": 57,
   "metadata": {},
   "outputs": [
    {
     "data": {
      "text/plain": [
       "Text(0.5, 1.0, 'heads_atleast(100, k)')"
      ]
     },
     "execution_count": 57,
     "metadata": {},
     "output_type": "execute_result"
    },
    {
     "data": {
      "image/png": "[encoded data removed]",
      "text/plain": [
       "<Figure size 640x480 with 1 Axes>"
      ]
     },
     "metadata": {},
     "output_type": "display_data"
    },
    {
     "data": {
      "image/png": "[encoded data removed]",
      "text/plain": [
       "<Figure size 640x480 with 1 Axes>"
      ]
     },
     "metadata": {},
     "output_type": "display_data"
    }
   ],
   "source": [
    "#Now use your defined functions to produce the desired outputs\n",
    "#For the plots, the np.arange() function is useful for creating a numpy array of integers\n",
    "\n",
    "k_values = np.arange(1,101)  #integers from 1 to 100 (lower bound is inclusive; upper bound is exclusive)\n",
    "plt.figure(1) #빈 figure 생성\n",
    "s1 = [heads_exactly(100, k) for k in k_values]\n",
    "plt.plot(k_values, s1, '-g')\n",
    "plt.xlabel('number of flips (exactly)')\n",
    "plt.ylabel('probability')\n",
    "plt.title('heads_exactly(100, k)')\n",
    "\n",
    "plt.figure(2)\n",
    "s2 = [heads_atleast(100, k) for k in k_values]\n",
    "plt.scatter(k_values, s2)\n",
    "plt.xlim()\n",
    "plt.xlabel('number of flips (at least)')\n",
    "plt.ylabel('probability')\n",
    "plt.title('heads_atleast(100, k)')"
   ]
  },
  {
   "cell_type": "markdown",
   "metadata": {},
   "source": [
    "## Problem 2: Semi-Empirical Mass Formula\n",
    "\n",
    "[Adapted from Newman, Exercise 2.10] In nuclear physics, the semi-empirical mass formula is a formula for calculating the approximte nuclear binding energy $B$ of an atomic nucleus with atomic number $Z$ and mass number $A$:\n",
    "\n",
    "$$ B = a_V A - a_S A^{2/3} - a_C \\frac{Z^2}{A^{1/3}} - a_A \\frac{(A-2Z)^2}{A} + \\delta\\frac{a_P}{A^{1/2}}, $$\n",
    "\n",
    "where, in units of millions of electron volts (MeV), the constants are $a_V = 14.64$, $a_S = 14.08$, $a_C = 0.64$, $a_A = 21.07$, $a_P=11.54$, and\n",
    "\n",
    "$$ \\delta = \\begin{cases}\n",
    "0 & \\text{if } A \\text{ is odd,}\\\\\n",
    "+1 & \\text{if } A \\text{ and } Z \\text{ are both even,} \\\\\n",
    "-1 & \\text{if } A \\text{ is even and } Z \\text{ is odd.}\n",
    "\\end{cases} $$\n",
    "The values above are taken from D. Benzaid <i>et al.</i>, NUCL SCI TECH <b>31</b>, 9 (2020); https://doi.org/10.1007/s41365-019-0718-8\n",
    "\n",
    "\n",
    "1. Write a function `binding_energy(A, Z)` that takes as its input the values of $A$ and $Z$, and returns the binding energy for the corresponding atom. Check your function by computing the binding energy of an atom with $A = 58$ and $Z = 28$. (Hint: The correct answer is around 490 MeV, and this formula should reproduce it to about 10%.)\n",
    "\n",
    "1. Write a function `binding_energy_per_nucleon(A, Z)` which returns not the total binding energy $B$, but the binding energy per nucleon, which is $B/A$.\n",
    "\n",
    "1. Write a function `max_binding_energy_per_nucleon(Z)` which takes as input just a single value of the atomic number $Z$ and then goes through all values of $A$ from $A = Z$ to $A = 3Z$, to find the one that has the largest binding energy per nucleon. This is the most stable nucleus with the given atomic number. Have your function return the value of $A$ for this most stable nucleus and the value of the binding energy per nucleon.\n",
    "\n",
    "1. Finally, use the functions you've written to write a program which runs through all values of $Z$ from 1 to 100 and prints out the most stable value of $A$ for each one. At what value of $Z$ does the maxium binding energy per nucleon occur? (The true answer, in real life, is $Z = 28$, which is nickel. You should find that the semi-empirical mass formula gets the answer roughly right, but not exactly.)\n",
    "\n",
    "#### Output\n",
    "\n",
    "Your final output should look like\n",
    "\n",
    "    Z =   1 : most stable A is 2\n",
    "    Z =   2 : most stable A is 4\n",
    "          .\n",
    "          .\n",
    "          .\n",
    "    Z =  10 : most stable A is 20\n",
    "    Z =  11 : most stable A is 23\n",
    "          .\n",
    "          .\n",
    "          .\n",
    "    Z = 100 : most stable A is 210\n",
    "    The most stable Z is ____\n",
    "    with binding energy per nucleon ____\n",
    "\n",
    "With the ...'s and ____'s replaced with your results. The binding energy per nucleon in the last line should have three decimal places.\n",
    "\n",
    "For maximum readability, you should include the extra whitespace around the $Z =$ numbers so everything lines up, as shown. (To remember the `print` formatting syntax to do this, see Table 1.1 in the Ayars text.)\n",
    "\n",
    "#### Reminder\n",
    "\n",
    "Remember to write informative doc strings, comment your code, and use descriptive function and variable names so others (and future you) can understand what you're doing!\n"
   ]
  },
  {
   "cell_type": "code",
   "execution_count": 12,
   "metadata": {},
   "outputs": [
    {
     "data": {
      "text/plain": [
       "508.58749039317803"
      ]
     },
     "execution_count": 12,
     "metadata": {},
     "output_type": "execute_result"
    }
   ],
   "source": [
    "import numpy as np\n",
    "\n",
    "def binding_energy(A, Z):\n",
    "    \"\"\"Returns the nuclear binding energy in MeV of an atomic nucleus with atomic number Z and mass number A\"\"\"\n",
    "    aV = 14.64 \n",
    "    aS = 14.08\n",
    "    aC = 0.64\n",
    "    aA = 21.07\n",
    "    aP = 11.54\n",
    "\n",
    "    #Use conditional statements (if, elif, else) to declare the variable delta with the appropriate value\n",
    "    if A % 2 != 0: #odd\n",
    "        delta = 0\n",
    "    elif A % 2 == 0 and Z % 2 == 0: #A and Z are both even\n",
    "        delta = 1\n",
    "    elif A % 2 == 0 and Z % 2 != 0: #A is even and Z is odd\n",
    "        delta = -1\n",
    "        \n",
    "    B = aV*A - aS*(A**(2/3)) - aC*((Z**2)/A**(1/3)) - aA*((A - 2*Z)**2/A) + delta*aP/A**(1/2)\n",
    "    \n",
    "    return B #Use the above formula for B, the binding energy\n",
    "\n",
    "#Now check your function by calculating the requested binding energy\n",
    "binding_energy(58, 28)"
   ]
  },
  {
   "cell_type": "code",
   "execution_count": 8,
   "metadata": {},
   "outputs": [],
   "source": [
    "def binding_energy_per_nucleon(A, Z):\n",
    "    \"\"\"Returns the nuclear binding energy per nucleon in MeV of an atomic nucleus with atomic number Z and mass number A\"\"\"\n",
    "    return binding_energy(A, Z) / A #Use binding_energy(A, Z) and the number of nucleons"
   ]
  },
  {
   "cell_type": "code",
   "execution_count": 9,
   "metadata": {},
   "outputs": [],
   "source": [
    "def max_binding_energy_per_nucleon(Z):\n",
    "    \"\"\"For atomic nucleus with atomic number Z, returns that mass number A that yields that maximum binding energy\n",
    "       per nucleon, as well as that resultant maximum binding energy per nucleon in MeV\"\"\"\n",
    "    \n",
    "    #We can make our default return value A = Z and the corresponding binding energy\n",
    "    max_A = Z\n",
    "    max_binding_energy_per_nucleon = binding_energy_per_nucleon(Z, Z)\n",
    "    \n",
    "    #Use a for loop to go from A = Z to A = 3*Z, and update the return variables if a new maximum is found\n",
    "    #A conditional statement within the loop is useful for comparing max_binding_energy_per_nucleon to a potential new maximum\n",
    "    for i in range(Z, 3*Z + 1, 1):\n",
    "        if binding_energy_per_nucleon(i, Z) > max_binding_energy_per_nucleon:\n",
    "            max_binding_energy_per_nucleon = binding_energy_per_nucleon(i, Z)\n",
    "            max_A = i\n",
    "        #print(i, max_A, max_binding_energy_per_nucleon)\n",
    "    return max_A, max_binding_energy_per_nucleon"
   ]
  },
  {
   "cell_type": "code",
   "execution_count": 17,
   "metadata": {},
   "outputs": [
    {
     "name": "stdout",
     "output_type": "stream",
     "text": [
      "Z =   1 : most stable A is   3\n",
      "Z =   2 : most stable A is   4\n",
      "Z =   3 : most stable A is   7\n",
      "Z =   4 : most stable A is   8\n",
      "Z =   5 : most stable A is  11\n",
      "Z =   6 : most stable A is  12\n",
      "Z =   7 : most stable A is  15\n",
      "Z =   8 : most stable A is  18\n",
      "Z =   9 : most stable A is  19\n",
      "Z =  10 : most stable A is  22\n",
      "Z =  11 : most stable A is  23\n",
      "Z =  12 : most stable A is  26\n",
      "Z =  13 : most stable A is  29\n",
      "Z =  14 : most stable A is  30\n",
      "Z =  15 : most stable A is  33\n",
      "Z =  16 : most stable A is  34\n",
      "Z =  17 : most stable A is  37\n",
      "Z =  18 : most stable A is  40\n",
      "Z =  19 : most stable A is  41\n",
      "Z =  20 : most stable A is  44\n",
      "Z =  21 : most stable A is  47\n",
      "Z =  22 : most stable A is  48\n",
      "Z =  23 : most stable A is  51\n",
      "Z =  24 : most stable A is  54\n",
      "Z =  25 : most stable A is  55\n",
      "Z =  26 : most stable A is  58\n",
      "Z =  27 : most stable A is  61\n",
      "Z =  28 : most stable A is  62\n",
      "Z =  29 : most stable A is  65\n",
      "Z =  30 : most stable A is  68\n",
      "Z =  31 : most stable A is  69\n",
      "Z =  32 : most stable A is  72\n",
      "Z =  33 : most stable A is  75\n",
      "Z =  34 : most stable A is  76\n",
      "Z =  35 : most stable A is  79\n",
      "Z =  36 : most stable A is  82\n",
      "Z =  37 : most stable A is  83\n",
      "Z =  38 : most stable A is  86\n",
      "Z =  39 : most stable A is  89\n",
      "Z =  40 : most stable A is  90\n",
      "Z =  41 : most stable A is  93\n",
      "Z =  42 : most stable A is  96\n",
      "Z =  43 : most stable A is  97\n",
      "Z =  44 : most stable A is 100\n",
      "Z =  45 : most stable A is 103\n",
      "Z =  46 : most stable A is 106\n",
      "Z =  47 : most stable A is 107\n",
      "Z =  48 : most stable A is 110\n",
      "Z =  49 : most stable A is 113\n",
      "Z =  50 : most stable A is 114\n",
      "Z =  51 : most stable A is 117\n",
      "Z =  52 : most stable A is 120\n",
      "Z =  53 : most stable A is 123\n",
      "Z =  54 : most stable A is 124\n",
      "Z =  55 : most stable A is 127\n",
      "Z =  56 : most stable A is 130\n",
      "Z =  57 : most stable A is 133\n",
      "Z =  58 : most stable A is 134\n",
      "Z =  59 : most stable A is 137\n",
      "Z =  60 : most stable A is 140\n",
      "Z =  61 : most stable A is 143\n",
      "Z =  62 : most stable A is 144\n",
      "Z =  63 : most stable A is 147\n",
      "Z =  64 : most stable A is 150\n",
      "Z =  65 : most stable A is 153\n",
      "Z =  66 : most stable A is 156\n",
      "Z =  67 : most stable A is 157\n",
      "Z =  68 : most stable A is 160\n",
      "Z =  69 : most stable A is 163\n",
      "Z =  70 : most stable A is 166\n",
      "Z =  71 : most stable A is 167\n",
      "Z =  72 : most stable A is 170\n",
      "Z =  73 : most stable A is 173\n",
      "Z =  74 : most stable A is 176\n",
      "Z =  75 : most stable A is 179\n",
      "Z =  76 : most stable A is 180\n",
      "Z =  77 : most stable A is 183\n",
      "Z =  78 : most stable A is 186\n",
      "Z =  79 : most stable A is 189\n",
      "Z =  80 : most stable A is 192\n",
      "Z =  81 : most stable A is 193\n",
      "Z =  82 : most stable A is 196\n",
      "Z =  83 : most stable A is 199\n",
      "Z =  84 : most stable A is 202\n",
      "Z =  85 : most stable A is 205\n",
      "Z =  86 : most stable A is 208\n",
      "Z =  87 : most stable A is 209\n",
      "Z =  88 : most stable A is 212\n",
      "Z =  89 : most stable A is 215\n",
      "Z =  90 : most stable A is 218\n",
      "Z =  91 : most stable A is 221\n",
      "Z =  92 : most stable A is 224\n",
      "Z =  93 : most stable A is 225\n",
      "Z =  94 : most stable A is 228\n",
      "Z =  95 : most stable A is 231\n",
      "Z =  96 : most stable A is 234\n",
      "Z =  97 : most stable A is 237\n",
      "Z =  98 : most stable A is 240\n",
      "Z =  99 : most stable A is 243\n",
      "Z = 100 : most stable A is 244\n",
      "The most stable Z is 22\n",
      "with binding energy per nucleon 8.878\n"
     ]
    }
   ],
   "source": [
    "#Now use a for loop and the function max_binding_energy_per_nucleon(Z) to print the final output\n",
    "max_A = 0\n",
    "max_Z = 0\n",
    "max_binding_energy_per_nucleon_value = 0\n",
    "\n",
    "for Z in range(1, 101, 1):\n",
    "    A, binding_energy_per_nucleon_value = max_binding_energy_per_nucleon(Z)\n",
    "        \n",
    "    if binding_energy_per_nucleon_value > max_binding_energy_per_nucleon_value:\n",
    "        max_binding_energy_per_nucleon_value = binding_energy_per_nucleon_value\n",
    "        max_A = A\n",
    "        max_Z = Z\n",
    "        \n",
    "    print(\"Z = {:>3d} : most stable A is {:>3d}\".format(Z, A))\n",
    "    \n",
    "print(\"The most stable Z is {:d}\".format(max_Z))\n",
    "print(\"with binding energy per nucleon {:.3f}\".format(max_binding_energy_per_nucleon_value))"
   ]
  },
  {
   "cell_type": "markdown",
   "metadata": {},
   "source": [
    "## Problem 3: Particle in a Box\n",
    "\n",
    "[Adapted from Ayars, Problem 3-1] The energy levels for a quantum particle in a three-dimensional rectangular box of dimensions $\\{L_1, L_2, \\text{ and } L_3\\}$ are given by\n",
    "\n",
    "$$ E_{n_1, n_2, n_3} = \\frac{\\hbar^2 \\pi^2}{2m} \\left[ \\frac{n_1^2}{L_1^2} + \\frac{n_2^2}{L_2^2} + \\frac{n_3^2}{L_3^2} \\right] $$\n",
    "\n",
    "where the $n$'s are integers greater than or equal to one. Your goal is to write a program that will calculate, and list in order of increasing energy, the values of the $n$'s for the 10 lowest *different* energy levels, given a box for which $L_2 = 2L_1$ and $L_3 = 4L_1$.\n",
    "\n",
    "Your program should include two user-defined functions that you may find helpful in accomplishing your goal:\n",
    "\n",
    "1. A function `energy(n1, n2, n3)` that takes integer values $n_1$, $n_2$, and $n_3$, and computes the corresponding energy level in units of $\\hbar^2 \\pi^2/2 m L_1^2$.\n",
    "\n",
    "1. A function `lowest_unique_K(K, List)` which takes a positive integer $K$ and a list of real numbers `List`, and returns an ordered (ascending) list of the lowest $K$ unique numbers in the list `List`. For instance, `lowest_unique_K(3, [-0.5, 3, 3, 2, 6, 7, 7])` would return `[-0.5, 2, 3]`. The function should not modify the original list `List`.\n",
    "    - As with most programming puzzles, there are several ways to write this function. Depending on how you do it, you may or may not find it helpful to Google how to \"sort\" lists, or how to \"del\" or \"pop\" items out of lists.\n",
    "    \n",
    "You may also wish to make other user-defined functions depending on how you go about solving the problem. In fact, if you find some clever way to solve the problem that doesn't use `lowest_unique_K`, that is fine too! (You still need to write `lowest_unique_K`, though.) But whatever you do, be sure to comment your code clearly!\n",
    "\n",
    "#### Output\n",
    "\n",
    "Your final output should look like this (though with different numbers, and not necessarily the same number of lines):\n",
    "\n",
    "    energy, n1, n2, n3\n",
    "    (0.4375, 1, 1, 1)\n",
    "    (0.625, 1, 2, 1)\n",
    "    (0.8125, 2, 1, 1)\n",
    "    (0.9375, 1, 3, 1)\n",
    "    (1.0, 2, 2, 1)\n",
    "    (1.1875, 1, 1, 2)\n",
    "    (1.3125, 2, 3, 1)\n",
    "    (1.375, 1, 2, 2)\n",
    "    (1.375, 1, 4, 1)\n",
    "    (1.4375, 3, 1, 1)\n",
    "    (1.5625, 2, 1, 2)\n",
    "\n",
    "Notice how there are only 10 unique energies listed, but more than 10 lines. Each line could also have brackets instead of parentheses if you prefer, like this: `[0.4375, 1, 1, 1]`.\n",
    "\n",
    "#### Reminder\n",
    "\n",
    "Remember to write informative doc strings, comment your code, and use descriptive function and variable names so others (and future you) can understand what you're doing!\n",
    "\n",
    "#### Just for fun\n",
    "\n",
    "If you'd like, write a function `print_table(list_of_lists)` that takes  a list of lists (or a list of tuples) and prints them in a nicely aligned table. Feel free to Google to get ideas on how to do this. Try to get your function to produce something like\n",
    "\n",
    "    energy  n1 n2 n3\n",
    "    0.4375  1  1  1\n",
    "    0.625   1  2  1\n",
    "    0.8125  2  1  1\n",
    "    0.9375  1  3  1\n",
    "    1.0     2  2  1\n",
    "    1.1875  1  1  2\n",
    "    1.3125  2  3  1\n",
    "    1.375   1  2  2\n",
    "    1.375   1  4  1\n",
    "    1.4375  3  1  1\n",
    "    1.5625  2  1  2"
   ]
  },
  {
   "cell_type": "code",
   "execution_count": 23,
   "metadata": {},
   "outputs": [
    {
     "data": {
      "text/plain": [
       "1.3125"
      ]
     },
     "execution_count": 23,
     "metadata": {},
     "output_type": "execute_result"
    }
   ],
   "source": [
    "def energy(n1, n2, n3):\n",
    "    \"\"\"Returns the n-dependent coefficient of the particle-in-a-3D-box energy level for quantum numbers n1, n2, and n3.\n",
    "    The box's lengths along dimensions 1, 2, and 3 go as L, 2*L, 4*L\"\"\"\n",
    "    #h = 6.62607015 * 10**(-34)\n",
    "    E = (16*n1**2 + 4*n2**2 + n3**2) / 16\n",
    "    \n",
    "    return E #Use the formula given above\n",
    "energy(1, 1, 1)"
   ]
  },
  {
   "cell_type": "code",
   "execution_count": 24,
   "metadata": {},
   "outputs": [
    {
     "data": {
      "text/plain": [
       "[-0.5, 2, 3]"
      ]
     },
     "execution_count": 24,
     "metadata": {},
     "output_type": "execute_result"
    }
   ],
   "source": [
    "import copy\n",
    "\n",
    "def lowest_unique_K(K, List):\n",
    "    \"\"\"Takes a positive integer K and a list of real numbers List, and returns an ordered (ascending) list of the lowest K unique numbers in the list List\"\"\"\n",
    "    lowest_unique_K_list = [0] * K  #This is a list of zeros (K of them)\n",
    "    #Or you may want to start with lowest_unique_K_list = [], an empty list\n",
    "    \n",
    "    copied_list = copy.copy(List)  #This gives us a copy of List; any changes you make to copied_list will not affect List\n",
    "    copied_list.sort(reverse=False)\n",
    "    #There's a lot of different ways to approach writing this function\n",
    "    #Try breaking it up into smaller steps and figure out what you'd like to do before writing any code\n",
    "    #If you have trouble turning logical steps into actual code, feel free to ask for help\n",
    "    lowest_unique_K_list = copied_list[:K]\n",
    "    \n",
    "    return lowest_unique_K_list\n",
    "\n",
    "lowest_unique_K(3, [-0.5, 3, 3, 2, 6, 7, 7])"
   ]
  },
  {
   "cell_type": "code",
   "execution_count": 47,
   "metadata": {},
   "outputs": [
    {
     "name": "stdout",
     "output_type": "stream",
     "text": [
      "energy n1 n2 n3\n",
      "(1.3125, 1, 1, 1)\n",
      "(1.5, 1, 1, 2)\n",
      "(1.8125, 1, 1, 3)\n",
      "(2.0625, 1, 2, 1)\n",
      "(2.25, 1, 1, 4)\n",
      "(2.25, 1, 2, 2)\n",
      "(2.5625, 1, 2, 3)\n",
      "(2.8125, 1, 1, 5)\n",
      "(3.0, 1, 2, 4)\n",
      "(3.3125, 1, 3, 1)\n"
     ]
    }
   ],
   "source": [
    "#Now create a list of energies for different values of n1, n2, n3 (taking each from 1 to 10 should be sufficient)\n",
    "#Remember to keep track of the corresponding n1, n2, n3 values for each energy, since we need to print them\n",
    "#Then use lowest_unique_K(10, List) on this list of energies to find the first 10\n",
    "#Finally, print these 10 energies and their corresponding n1, n2, n3 values\n",
    "#You may find a dictionary helpful for keeping track of the association between energy values and n values\n",
    "list = []\n",
    "\n",
    "for n1 in range(1, 11):\n",
    "    for n2 in range(1, 11):\n",
    "        for n3 in range(1, 11):\n",
    "            list.append([energy(n1, n2, n3), n1, n2, n3])\n",
    "\n",
    "            lowest_list = lowest_unique_K(10, list)\n",
    "#print(lowest)\n",
    "\n",
    "print('{} {} {} {}'.format('energy', 'n1', 'n2', 'n3'))\n",
    "\n",
    "for i in range(len(lowest_list)):\n",
    "    print(tuple(lowest_list[i]))"
   ]
  },
  {
   "cell_type": "code",
   "execution_count": 58,
   "metadata": {},
   "outputs": [
    {
     "name": "stdout",
     "output_type": "stream",
     "text": [
      "energy n1 n2 n3\n",
      "1.312  1  1  1\n",
      "1.500  1  1  2\n",
      "1.812  1  1  3\n",
      "2.062  1  2  1\n",
      "2.250  1  1  4\n",
      "2.250  1  2  2\n",
      "2.562  1  2  3\n",
      "2.812  1  1  5\n",
      "3.000  1  2  4\n",
      "3.312  1  3  1\n"
     ]
    }
   ],
   "source": [
    "def print_table(list):\n",
    "    print('{} {} {} {}'.format('energy', 'n1', 'n2', 'n3'))\n",
    "    for i in range(len(list)):\n",
    "        print('{:.3f} {:2d} {:2d} {:2d}'.format(list[i][0], list[i][1], list[i][2], list[i][3]))\n",
    "    \n",
    "print_table(lowest_list)"
   ]
  },
  {
   "cell_type": "code",
   "execution_count": null,
   "metadata": {},
   "outputs": [],
   "source": []
  }
 ],
 "metadata": {
  "kernelspec": {
   "display_name": "Python 3 (ipykernel)",
   "language": "python",
   "name": "python3"
  },
  "language_info": {
   "codemirror_mode": {
    "name": "ipython",
    "version": 3
   },
   "file_extension": ".py",
   "mimetype": "text/x-python",
   "name": "python",
   "nbconvert_exporter": "python",
   "pygments_lexer": "ipython3",
   "version": "3.9.15"
  }
 },
 "nbformat": 4,
 "nbformat_minor": 4
}
