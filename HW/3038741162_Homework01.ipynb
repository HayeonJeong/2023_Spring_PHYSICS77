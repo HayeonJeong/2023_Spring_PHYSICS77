{
 "cells": [
  {
   "cell_type": "raw",
   "metadata": {},
   "source": [
    "Hayeon Jeong\n",
    "WOR 101 (Class # 22863)"
   ]
  },
  {
   "cell_type": "markdown",
   "metadata": {},
   "source": [
    "# Homework 1: Python basics and a little plotting"
   ]
  },
  {
   "cell_type": "markdown",
   "metadata": {},
   "source": [
    "** Submit this notebook to bCourses to receive a credit for this assignment.**\n",
    "\n",
    "Please complete this homework assignment in code cells in the iPython notebook. Include comments in your code when necessary. Enter your name in the cell at the top of the notebook, and rename the notebook [email_name]_HW01.ipynb, where [email_name] is the part of your UCB email address that precedes \"@berkeley.edu\". Please also submit a PDF of the jupyter notebook to bcourses."
   ]
  },
  {
   "cell_type": "markdown",
   "metadata": {},
   "source": [
    "## Problem 1: Satellite Altitudes\n",
    "\n",
    "[Adapted from Newman, Exercise 2.2] A satellite is to be launched into a circular orbit around the Earth so that it orbits the planet once every $T$ seconds. The altitude $h$ above the Earth's surface that the satellite must have is $$ h = \\left( \\frac{G M T^2}{4 \\pi^2} \\right)^{1/3} - R, $$ where $G = 6.67 \\times 10^{-11}~\\text{m}^3~\\text{kg}^{-1}~\\text{s}^{-2}$ is Newton's gravitational constant, $M = 5.97 \\times 10^{24}~\\text{kg}$ is the mass of the Earth, and $R = 6371~\\text{km}$ is its radius."
   ]
  },
  {
   "cell_type": "markdown",
   "metadata": {},
   "source": [
    "**1a.** Write a program that, for a given value of $T$ (entered as a variable T in a cell), calculates and prints out the correct altitude in meters, kilometers, and miles, with one decimal place for each result.\n",
    "\n",
    "*Output for 1a*: When the code cell for this part of the problem is entered, it should specify (in the comments or the Markdown cell above) what units of $T$ are assumed. The program should print out the correct altitude in meters, kilometers, and miles, with one decimal place for each result."
   ]
  },
  {
   "cell_type": "code",
   "execution_count": 7,
   "metadata": {
    "jupyter": {
     "outputs_hidden": true
    }
   },
   "outputs": [
    {
     "name": "stdout",
     "output_type": "stream",
     "text": [
      "86400(seconds) -> satellite altitude: 35855910.2(meters), 35855.9(kilometers), 22409.9(miles)\n"
     ]
    },
    {
     "data": {
      "text/plain": [
       "35855910.176174976"
      ]
     },
     "execution_count": 7,
     "metadata": {},
     "output_type": "execute_result"
    }
   ],
   "source": [
    "import numpy as np\n",
    "PI = np.pi  #the numpy library has a lot of useful mathematical constants\n",
    "T = 86400\n",
    "\n",
    "def find_altitude(T):\n",
    "    \"\"\"This function calculates and prints the altitude above Earth's surface\n",
    "    for a satellite with orbital period T (input in seconds)\"\"\"\n",
    "    \n",
    "    G = 6.67e-11 #Gravitational constant, units: m^3/kg/s^2\n",
    "    M = 5.97e24  #mass of Earth, units: kg\n",
    "    R = 6371e3   #radius of Earth, units: m\n",
    "    \n",
    "    h = ((G * M * T**2) / (4 * PI**2))**(1/3) - R #use the formula given above to to find the altitude\n",
    "    \n",
    "    # Now use print statements and your favorite formatting method to print the results.  \n",
    "    print(\"{}(seconds) -> satellite altitude: {:.1f}(meters), {:.1f}(kilometers), {:.1f}(miles)\".format(T, h, h/1000, h/1000/1.6))\n",
    "    return h\n",
    "    \n",
    "find_altitude(T)"
   ]
  },
  {
   "cell_type": "markdown",
   "metadata": {},
   "source": [
    "*Output for 1b and 1c:* Use code cells to carry out the desired calculations, and Markdown cells to present and discuss your results."
   ]
  },
  {
   "cell_type": "markdown",
   "metadata": {},
   "source": [
    "**1b.** Use your program to calculate the altitudes of satellites that orbit the Earth once a day (so-called \"geosynchronous\" orbit), once every 90 minutes, and once every 45 minutes. What do you conclude from the last of these calculations?"
   ]
  },
  {
   "cell_type": "code",
   "execution_count": 8,
   "metadata": {
    "jupyter": {
     "outputs_hidden": true
    }
   },
   "outputs": [
    {
     "name": "stdout",
     "output_type": "stream",
     "text": [
      "every 90 mins\n",
      "5400(seconds) -> satellite altitude: 279321.6(meters), 279.3(kilometers), 174.6(miles)\n",
      "86400(seconds) -> satellite altitude: 35855910.2(meters), 35855.9(kilometers), 22409.9(miles)\n",
      "every 45 mins\n",
      "2700(seconds) -> satellite altitude: -2181559.9(meters), -2181.6(kilometers), -1363.5(miles)\n",
      "86400(seconds) -> satellite altitude: 35855910.2(meters), 35855.9(kilometers), 22409.9(miles)\n"
     ]
    }
   ],
   "source": [
    "# Since you defined a function above, you can just call it with different input values. \n",
    "\n",
    "print(\"every 90 mins\")\n",
    "for i in range(1, 86401, 1):\n",
    "    if i % (90*60) == 0:\n",
    "        if i == 5400: # 90min = 5400sec \n",
    "            find_altitude(i)\n",
    "        if i == 86400:\n",
    "            find_altitude(i)\n",
    "\n",
    "print(\"every 45 mins\")       \n",
    "for j in range(1, 86401, 1):\n",
    "    if j % (45*60) == 0:\n",
    "        if j == 2700: # 45min = 2700sec\n",
    "            find_altitude(j)\n",
    "        if j == 86400:\n",
    "            find_altitude(j)\n",
    "\n",
    "# 45min = 2700sec: shows that altitude is negative.\n",
    "# but at the end, two results shows the same altitude"
   ]
  },
  {
   "cell_type": "markdown",
   "metadata": {},
   "source": [
    "**1c.** Technically a geosynchronous satellite is one that orbits the Earth once per *sidereal day*, which is 23.93 hours, not 24 hours. Why is this? And how much difference will it make to the altitude of the satellite?"
   ]
  },
  {
   "cell_type": "code",
   "execution_count": 9,
   "metadata": {},
   "outputs": [
    {
     "name": "stdout",
     "output_type": "stream",
     "text": [
      "<24 hours>\n",
      "86400(seconds) -> satellite altitude: 35855910.2(meters), 35855.9(kilometers), 22409.9(miles)\n",
      "<23.93 hours>\n",
      "86148.0(seconds) -> satellite altitude: 35773762.3(meters), 35773.8(kilometers), 22358.6(miles)\n",
      "difference of satellite altitude: 82147.8 meters, 82.1 kilometers, 51.3 miles\n"
     ]
    }
   ],
   "source": [
    "# the reason why 23.93 hours: Earth orbits while it rotates.\n",
    "\n",
    "hours = [24, 23.93]\n",
    "print(\"<24 hours>\")\n",
    "h_24 = find_altitude(hours[0]*3600)\n",
    "print(\"<23.93 hours>\")\n",
    "h_23 = find_altitude(hours[1]*3600)\n",
    "dif = h_24 - h_23\n",
    "print(\"difference of satellite altitude: {:.1f} meters, {:.1f} kilometers, {:.1f} miles\".format(dif, dif/1000, dif/1000/1.6))"
   ]
  },
  {
   "cell_type": "markdown",
   "metadata": {},
   "source": [
    "#### Hints\n",
    "\n",
    "Be very careful of units! Unlike wolframalpha.com, python is oblivious to what units your various numbers represent. You need to carefully keep track of them to make sure that your units work out. Not converting units properly can lead to [very expensive disasters](https://en.wikipedia.org/wiki/Mars_Climate_Orbiter) or just wrong scientific results ...\n",
    "\n",
    "Remember to comment your code and use descriptive variable names so others (and future you) can understand what you're doing!"
   ]
  },
  {
   "cell_type": "markdown",
   "metadata": {},
   "source": [
    "## Problem 2: Perfect Hardboiled Eggs\n",
    "\n",
    "[Adapted from Langtangen, Exercise 1.12. You may derive the formula in Physics 112 or Physics 89] As an egg cooks, the proteins first denature and then coagulate. When the temperature exceeds a critical point, reactions begin and proceed faster as the temperature increases. In the egg white the proteins start to coagulate for temperatures above 63 C, while in the  yolk the proteins start to coagulate for temperatures above 70 C. For a soft boiled egg, the white needs to have been heated long enough to coagulate at a temperature above 63 C, but the yolk should not be heated above 70 C. For a hard boiled egg, the center of the yolk should be allowed to reach 70 C.\n",
    "\n",
    "The following formula expresses the time $t$ it takes (in seconds) for the center of the yolk to reach the temperature $T_y$ (in Celsius degrees): $$ t = \\frac{M^{2/3} c \\rho^{1/3}}{K \\pi^2 (4\\pi/3)^{2/3}} \\ln \\left[ 0.76 \\frac{T_0 - T_w}{T_y - T_w} \\right] . $$ Here, $M$, $\\rho$, $c$, and $K$ are properties of the egg:\n",
    "* $M$ is the mass,\n",
    "* $\\rho$ is the density,\n",
    "* $c$ is the specific heat capacity, and \n",
    "* $K$ is the thermal conductivity.\n",
    "\n",
    "Relevant values are\n",
    "* $M = 64~\\text{g}$ for a large egg (USA size XL: en.wikipedia.org/wiki/Chicken_egg_sizes),\n",
    "* $\\rho = 1.0378~\\text{g cm}^{-3}$,\n",
    "* $c = 3.7~\\text{J g}^{-1}\\,\\text{K}^{-1}$, and\n",
    "* $K = 5.4 \\cdot 10^{-3}~\\text{W cm}^{-1}\\,\\text{K}^{-1}$.\n",
    "\n",
    "Furthermore,\n",
    "* $T_w$ is the temperature (in C degrees) of the boiling water, and\n",
    "* $T_0$ is the original temperature (in C degrees) of the egg before being put in the water.\n",
    "\n",
    "Suppose we want our eggs hard-boiled. Implement the formula in a program, set $T_w = 100~\\text{C}$ and $T_y = 70~\\text{C}$, and compute $t$ for a large egg taken from the fridge ($T_0 = 4~\\text{C}$) and from room temperature ($T_0 = 20~\\text{C}$). Also compute the results for a small egg ($M = 42~\\text{g}$)."
   ]
  },
  {
   "cell_type": "markdown",
   "metadata": {},
   "source": [
    "*Output for 2:*\n",
    "When you run your code cell, it should produce the following text, with your numbers instead of the `TTT`, `MMM`, and `SSS` placeholders:\n",
    "\n",
    "    To hard-boil a large egg taken directly from the fridge, cook it for TTT minutes (MMM min, SSS sec).\n",
    "    To hard-boil a small egg taken directly from the fridge, cook it for TTT minutes (MMM min, SSS sec).\n",
    "    To hard-boil a large egg starting from room temperature, cook it for TTT minutes (MMM min, SSS sec).\n",
    "    To hard-boil a small egg starting from room temperature, cook it for TTT minutes (MMM min, SSS sec).\n",
    "\n",
    "The `TTT` placeholders should be values in minutes to two decimal places. The `MMM` and `SSS` placeholders should be rounded to the nearest minute/second, with no decimal places. For example,\n",
    "\n",
    "    To hard-boil a large egg taken directly from the fridge, cook it for 56.78 minutes (56 min 47 sec).\n",
    "    "
   ]
  },
  {
   "cell_type": "code",
   "execution_count": 6,
   "metadata": {
    "jupyter": {
     "outputs_hidden": true
    }
   },
   "outputs": [
    {
     "name": "stdout",
     "output_type": "stream",
     "text": [
      "To hard-boil a large egg taken directly from the fridge, cook it for 6.41 minutes (6 min, 41 sec).\n",
      "To hard-boil a small egg taken directly from the fridge, cook it for 4.84 minutes (4 min, 84 sec).\n",
      "To hard-boil a large egg starting from room temperature, cook it for 5.10 minutes (5 min, 10 sec).\n",
      "To hard-boil a small egg starting from room temperature, cook it for 3.85 minutes (3 min, 85 sec).\n"
     ]
    }
   ],
   "source": [
    "import numpy as np\n",
    "PI = np.pi  #the numpy library has a lot of useful mathematical constants\n",
    "\n",
    "def find_time(T_initial, M_egg):\n",
    "    \"\"\"This function calculates and returns the time (in seconds)\n",
    "    for the center of the yolk to reach the temperature T_yolk, given\n",
    "    the initial egg temperature T_initial (in degrees Celsius). The mass \n",
    "    of the egg (in grams) is also taken as an input.\"\"\"\n",
    "    \n",
    "    T_water = 100 #temperature of boiling water, units: degrees Celsius\n",
    "    T_yolk  = 70  #temperature of cooked yolk, units: degrees Celsius\n",
    "    rho = 1.0378  #density of egg, units: grams/cm^3\n",
    "    c = 3.7       #specific heat capacity, units: Joules/grams/(degrees Kelvin)\n",
    "    K = 5.4e-3    #thermal conductivity, units: Watts/cm/(degrees Kelvin)\n",
    "    \n",
    "    # Use the formula given above to to find the time needed to cook the egg.\n",
    "    t = M_egg**(2/3) * c * rho**(1/3) / \\\n",
    "          (K * PI**2 * (4*PI/3)**(2/3)) * \\\n",
    "          np.log(0.76 * ((T_initial) - (T_water))/((T_yolk) - (T_water)))\n",
    "    \n",
    "    return t/60\n",
    "\n",
    "\n",
    "# You can now use your defined function to find the times needed to cook the small/large eggs with different starting temperatures\n",
    "M_egg_large = 64\n",
    "M_egg_small = 42\n",
    "fridge_T0 = 4\n",
    "room_T0 = 20\n",
    "\n",
    "\n",
    "l_e_f = find_time(fridge_T0, M_egg_large)\n",
    "s_e_f = find_time(fridge_T0, M_egg_small)\n",
    "l_e_r = find_time(room_T0, M_egg_large)\n",
    "s_e_r = find_time(room_T0, M_egg_small)\n",
    "\n",
    "print(\"To hard-boil a large egg taken directly from the fridge, cook it for {:.2f} minutes ({} min, {:.0f} sec).\".format(l_e_f, int(l_e_f), (l_e_f - int(l_e_f))*100))\n",
    "print(\"To hard-boil a small egg taken directly from the fridge, cook it for {:.2f} minutes ({} min, {:.0f} sec).\".format(s_e_f, int(s_e_f), (s_e_f - int(s_e_f))*100))\n",
    "print(\"To hard-boil a large egg starting from room temperature, cook it for {:.2f} minutes ({} min, {:.0f} sec).\".format(l_e_r, int(l_e_r), (l_e_r - int(l_e_r))*100))\n",
    "print(\"To hard-boil a small egg starting from room temperature, cook it for {:.2f} minutes ({} min, {:.0f} sec).\".format(s_e_r, int(s_e_r), (s_e_r - int(s_e_r))*100))"
   ]
  },
  {
   "cell_type": "markdown",
   "metadata": {},
   "source": [
    "#### Hints\n",
    "\n",
    "Writing the entire formula in one line is difficult to type, difficult to read, difficult to debug---and you have to retype the entire calculation just to change one piece of it. Try breaking it down in smaller chunks assigned to variables, and combine those chunks to produce the final result.\n",
    "\n",
    "Beware of integer division!\n",
    "\n",
    "Remember to comment your code and use descriptive variable names so others (and future you) can understand what you're doing!"
   ]
  },
  {
   "cell_type": "markdown",
   "metadata": {},
   "source": [
    "## Problem 3: Estimating Half-Life\n",
    "\n",
    "[Adapted from Ayars, Problem 0-3] The data in file [Ba137.txt](https://raw.githubusercontent.com/celegante/code_chapter_0-_github/master/Ba137.txt) is actual data from a radioactive decay experiment (you should already have the file from the Workshop). The first column is the number of decays $N$, the second is the time $t$ in seconds. We'd like to know the half-life $t_{1/2}$ of $^{137}\\text{Ba}$. It should follow the decay equation $$ N = N_0 e^{-\\lambda t} $$ where $\\lambda = \\frac{\\log 2}{t_{1/2}}$. Using the techniques you've learned from the lecture and workshop, load the data from the file Ba137.txt into appropriately-named variables. Experiment with different values of $N$ and $\\lambda$ and plot the resulting equation on top of the data. (Python uses `exp()` to calculate the exponential function: i.e. `y = A*exp(-L*time)` ) Don't worry about automating this process yet (unless you *really* want to!) just try adjusting things by hand until the equation matches the data pretty well. What is your best estimate for $t_{1/2}$?"
   ]
  },
  {
   "cell_type": "markdown",
   "metadata": {},
   "source": [
    "*Output for 3:*\n",
    "When you run your code cell, it should produce a well-labeled plot with both the data and your curve of best fit. It should also print a message to the terminal which says, \"My best estimate for the half life is $x$\", where $x$ is your estimate with units."
   ]
  },
  {
   "cell_type": "code",
   "execution_count": 36,
   "metadata": {
    "jupyter": {
     "outputs_hidden": true
    }
   },
   "outputs": [
    {
     "data": {
      "image/png": "[encoded data removed]",
      "text/plain": [
       "<Figure size 640x480 with 1 Axes>"
      ]
     },
     "metadata": {},
     "output_type": "display_data"
    },
    {
     "name": "stdout",
     "output_type": "stream",
     "text": [
      "My best estimate for the half life is 75\n"
     ]
    }
   ],
   "source": [
    "import numpy as np\n",
    "import matplotlib.pyplot as plt\n",
    "\n",
    "# Starting by reading in the data from the text file\n",
    "decays, time = np.loadtxt(\"Ba137.txt\", unpack = True)\n",
    "\n",
    "# 'counts' and 'times' are both Python lists; you can try printing to get an idea of what values they contain\n",
    "t_1_2 = 75\n",
    "N_0 = 27635\n",
    "L = np.log10(2)/t_1_2\n",
    "\n",
    "# The numpy library has an exponential function; use np.exp(x) to return e^x\n",
    "N = N_0*np.exp(-L*time)\n",
    "\n",
    "plt.figure()    # Start a clean figure\n",
    "plt.plot(time, N_0*np.exp(-L*time), 'x')\n",
    "plt.plot(time, decays, '-g')\n",
    "plt.xlabel('time')\n",
    "plt.ylabel('decays')\n",
    "plt.show()\n",
    "\n",
    "print(\"My best estimate for the half life is {}\".format(t_1_2))"
   ]
  },
  {
   "cell_type": "markdown",
   "metadata": {},
   "source": [
    "#### Hints\n",
    "\n",
    "Remember to comment your code and use descriptive variable names so others (and future you) can understand what you're doing!"
   ]
  }
 ],
 "metadata": {
  "kernelspec": {
   "display_name": "Python 3 (ipykernel)",
   "language": "python",
   "name": "python3"
  },
  "language_info": {
   "codemirror_mode": {
    "name": "ipython",
    "version": 3
   },
   "file_extension": ".py",
   "mimetype": "text/x-python",
   "name": "python",
   "nbconvert_exporter": "python",
   "pygments_lexer": "ipython3",
   "version": "3.9.15"
  }
 },
 "nbformat": 4,
 "nbformat_minor": 4
}
